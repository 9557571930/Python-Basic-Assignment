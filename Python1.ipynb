{
  "nbformat": 4,
  "nbformat_minor": 0,
  "metadata": {
    "colab": {
      "provenance": []
    },
    "kernelspec": {
      "name": "python3",
      "display_name": "Python 3"
    },
    "language_info": {
      "name": "python"
    }
  },
  "cells": [
    {
      "cell_type": "code",
      "execution_count": null,
      "metadata": {
        "id": "NgwW2HC2iM6t"
      },
      "outputs": [],
      "source": []
    },
    {
      "cell_type": "markdown",
      "source": [
        "#**PYTHON Basics Questions**"
      ],
      "metadata": {
        "id": "DRfL7ur1ibgy"
      }
    },
    {
      "cell_type": "markdown",
      "source": [
        "**1. What is Python, and why is it popular?**\n",
        "   - Python is a programming language that is easy to understand and write, making it a popular choice among developers and programmers.\n",
        "It is compatible with various programming paradigms, such as procedural, object-oriented, and functional programming.\n",
        "Python has a large and active community of developers, an extensive standard library, and third-party packages for various domains.\n",
        "\n",
        "**2.What is an interpreter in Python?**\n",
        "  - In Python, an **interpreter** is a program that reads and executes Python code line by line. It takes the source code written by the programmer and directly executes it, without needing to compile it into machine-level code first.\n",
        "\n",
        "Here's how it works:\n",
        "\n",
        "1. **Lexical Analysis**: The interpreter reads the Python code and converts it into a set of tokens.\n",
        "2. **Parsing**: It analyzes the syntax of the code and generates an intermediate representation, often referred to as the \"abstract syntax tree\" (AST).\n",
        "3. **Execution**: The interpreter executes the code by converting the AST into machine instructions (or bytecode) and runs it.\n",
        "\n",
        "Python is often considered an interpreted language because it is executed in this way, although technically, it is compiled to bytecode (a lower-level, platform-independent representation) before being interpreted by the Python Virtual Machine (PVM).\n",
        "\n",
        "In simpler terms, when you run a Python program, the Python interpreter directly executes your code, which allows for an interactive and flexible development process.\n",
        "\n",
        "**3. What are pre-defined keywords in Python?**\n",
        "  - Keywords are reserved words in Python that have special meanings and cannot be used as identifiers (variable names, function names, etc.).\n",
        "Examples of keywords include if, else, while, for, def, class, import, try, except, return, True, False, None, etc.\n",
        "Keywords are case-sensitive and cannot be redefined or overridden within a Python program.\n",
        "\n",
        "**4.Can keywords be used as variable names?**\n",
        "  - No, **keywords** in Python cannot be used as variable names. Keywords are reserved words in Python that have special meanings and purposes in the language. They are part of the Python syntax and are predefined by the language itself.\n",
        "\n",
        "For example, words like `if`, `else`, `while`, `for`, `class`, `def`, `True`, `False`, and `None` are keywords. These are used to define control structures, data types, and other core components of Python.\n",
        "\n",
        "If you try to use a keyword as a variable name, Python will raise a **SyntaxError**.\n",
        "\n",
        "**5.What is mutability in Python?**\n",
        "   - **Mutability** in Python refers to whether or not the state (or value) of an object can be changed after it is created.\n",
        "\n",
        "- **Mutable objects**: These are objects whose values can be changed or modified after they are created. In other words, you can alter the content of the object without creating a new object.\n",
        "### Examples of Mutable and Immutable Objects:\n",
        "####  Example of Mutable Objects:\n",
        "  - Lists\n",
        "  - Dictionaries\n",
        "  -Sets\n",
        "\n",
        "**6. Why are lists mutable, but tuples are immutable?**\n",
        "  - The difference between lists being mutable and tuples being immutable in Python is rooted in their design and intended use cases. Here's a breakdown:\n",
        "\n",
        "---\n",
        "\n",
        "### **1. Purpose and Use Case**\n",
        "- **Lists**: Designed to be **dynamic** collections of items. They are used when you need a collection of elements that might change during the program’s lifecycle. For example, adding, removing, or modifying elements in a list is common.\n",
        "- **Tuples**: Designed to be **static** collections of items. They are used when the data should not change after being defined, providing a way to group related pieces of information together (e.g., coordinates or configuration settings).\n",
        "\n",
        "---\n",
        "\n",
        "### **2. Memory Optimization**\n",
        "- **Lists**: Since they are mutable, Python has to allocate additional memory to allow for dynamic resizing and modification.\n",
        "- **Tuples**: Being immutable, they can use less memory and allow certain optimizations. They are hashable if all their elements are hashable, making them usable as keys in dictionaries and elements in sets.\n",
        "\n",
        "---\n",
        "\n",
        "### **3. Thread Safety**\n",
        "- **Lists**: Their mutability can lead to unintended side effects when shared across threads.\n",
        "- **Tuples**: Immutable data structures, like tuples, are inherently thread-safe since their contents cannot be changed.\n",
        "\n",
        "---\n",
        "\n",
        "### **4. Implementation Detail**\n",
        "- **Lists**: Maintain dynamic data structures with methods like `.append()`, `.remove()`, and slicing operations that allow modification.\n",
        "- **Tuples**: Do not support any methods that modify their contents. Once created, the object’s state remains constant, which simplifies their internal representation.\n",
        "\n",
        "---\n",
        "\n",
        "### **5. Logical Consistency**\n",
        "- Lists represent collections that may grow, shrink, or change. Mutability aligns with this dynamic nature.\n",
        "- Tuples represent fixed, unchanging sets of values. Immutability aligns with their static nature.\n",
        "\n",
        "---\n",
        "\n",
        "By offering both mutable lists and immutable tuples, Python provides developers with the flexibility to choose the most appropriate data structure for their needs.\n",
        "\n",
        "**7. What is the difference between “==” and “is” operators in Python?**\n",
        "  -  The `==` and `is` operators in Python are used for **comparison**, but they serve different purposes:\n",
        "\n",
        "---\n",
        "\n",
        "### **`==` (Equality Operator)**\n",
        "\n",
        "- **Purpose**: Compares the **values** of two objects to check if they are equal.\n",
        "- **Behavior**: It checks if the contents of the objects are the same, regardless of whether they are the same object in memory.\n",
        "  ```\n",
        "- **Common Use Case**: To check if two objects have equivalent data or values.\n",
        "\n",
        "---\n",
        "\n",
        "### **`is` (Identity Operator)**\n",
        "\n",
        "- **Purpose**: Checks if two objects **refer to the same memory location** (i.e., if they are the same object).\n",
        "- **Behavior**: It evaluates to `True` only if both operands are the exact same object in memory.\n",
        "  ```\n",
        "\n",
        "---\n",
        "\n",
        "### Key Differences:\n",
        "| Aspect             | `==` (Equality)                       | `is` (Identity)                    |\n",
        "|---------------------|---------------------------------------|-------------------------------------|\n",
        "| **Compares**        | Values (contents of objects)          | Object identity (memory location)  |\n",
        "| **Returns**         | `True` if values are the same         | `True` if objects are the same     |\n",
        "| **Example**         | `[1, 2] == [1, 2]` → `True`           | `[1, 2] is [1, 2]` → `False`       |\n",
        "\n",
        "---\n",
        "\n",
        "### **When to Use Which?**\n",
        "- Use `==` when you care about **value equality** (e.g., comparing data or contents).\n",
        "- Use `is` when you care about **object identity** (e.g., ensuring you’re working with the exact same instance).\n",
        "\n",
        "**8.What are logical operators in Python?**\n",
        "  - Operators are special symbols or keywords that are used to carry out specific actions on numbers or variables in Python expressions.\n",
        "  -Python supports various types of operators, including arithmetic operators (+, -, *, /), comparison operators (==, !=, <, >), logical operators (and, or, not), assignment operators (=, +=, -=, *=, /=), etc.\n",
        "  -Operators have precedence and associativity rules that determine the order of evaluation in expressions.\n",
        "\n",
        "**9.What is type casting in Python?**\n",
        "   - Type casting, also referred to as type conversion, is the process of changing one data type to another in Python.\n",
        "   -Python provides built-in functions for type casting, such as int(), float(), str(), list(), tuple(), dict(), etc.\n",
        "   - Type casting is often necessary for performing arithmetic operations, data manipulation, and input/output operations in Python programs.\n",
        "\n",
        "**10.What is the difference between implicit and explicit type casting?**\n",
        "  - **Type casting** in programming refers to converting a value from one data type to another. There are two main types of type casting: **implicit** and **explicit**. Here's how they differ:\n",
        "\n",
        "\n",
        "\n",
        "### **1. Implicit Type Casting**\n",
        "- **Definition**: Also called \"type coercion,\" it occurs **automatically** when the language converts one data type to another without explicit instructions from the programmer.\n",
        "- **Behavior**: Implicit casting happens when there's no risk of losing information or precision. It’s handled by the language to ensure compatibility between operations.\n",
        "  ```\n",
        "- **When It Happens**:\n",
        "  - Mixing data types in operations (e.g., adding an `int` to a `float`).\n",
        "  - Assigning a smaller data type (e.g., `int`) to a larger data type (e.g., `float`).\n",
        "- **Pros**:\n",
        "  - Simplifies code by reducing the need for manual conversions.\n",
        "  - Reduces the likelihood of type-related errors in basic operations.\n",
        "- **Cons**:\n",
        "  - Can lead to unintended behavior in complex scenarios if the conversion is not obvious.\n",
        "\n",
        "\n",
        "\n",
        "### **2. Explicit Type Casting**\n",
        "- **Definition**: Also called \"type conversion,\" it requires the programmer to explicitly **instruct** the language to convert a value from one data type to another.\n",
        "- **Behavior**: The programmer uses functions or syntax to force a conversion, even if there’s potential for data loss or an exception.\n",
        "  ```\n",
        "- **When It’s Needed**:\n",
        "  - To handle conversions that might lose data or require careful handling (e.g., `float` to `int`).\n",
        "  - When combining incompatible types that don’t automatically convert.\n",
        "- **Pros**:\n",
        "  - Provides full control over how and when conversions occur.\n",
        "  - Helps prevent unintended behavior by making conversions explicit.\n",
        "- **Cons**:\n",
        "  - Requires additional code and understanding of the conversion process.\n",
        "  - May lead to runtime errors if not handled carefully.\n",
        "\n",
        "\n",
        "\n",
        "### **Key Differences**\n",
        "\n",
        "| Aspect                    | Implicit Type Casting                          | Explicit Type Casting                          |\n",
        "|---------------------------|-----------------------------------------------|-----------------------------------------------|\n",
        "| **Initiation**             | Done automatically by the language            | Requires explicit instruction by the programmer |\n",
        "| **Control**                | Minimal control by the programmer             | Full control by the programmer                |\n",
        "| **Risk of Data Loss**      | Low or none (only safe conversions)           | Potentially high (e.g., `float` → `int`)      |\n",
        "| **Ease of Use**            | Easier, no additional code required           | Requires additional code and careful handling |\n",
        "| **Example**                | `int_value + 2.5` → Converts `int` to `float` | `int(10.7)` → Converts `float` to `int`       |\n",
        "\n",
        "---\n",
        "\n",
        "### Summary:\n",
        "- **Implicit casting** is automatic and safer but limited to certain scenarios.\n",
        "- **Explicit casting** gives more flexibility and control but requires caution to avoid errors or unintended consequences.\n",
        "\n",
        "**11. What is the purpose of conditional statements in Python?**\n",
        "   - Conditionals in Python are used to execute code based on the evaluation of one or more conditions.\n",
        "   -Python supports conditional statements such as if, elif (else if), and else to control the flow of execution.\n",
        "   -Conditionals can be nested to handle multiple conditions and control different branches of execution based on the outcome of logical expressions.\n",
        "\n",
        "**12.How does the elif statement work?**\n",
        "  - The `elif` statement in Python stands for \"else if\" and is used to test multiple conditions in a sequence. It allows you to check additional conditions after an `if` statement and before a final `else` block (if present). Here's how it works:\n",
        "\n",
        "---\n",
        "\n",
        "### **Syntax of `elif`**\n",
        "```python\n",
        "if condition1:\n",
        "    # Code block 1\n",
        "elif condition2:\n",
        "    # Code block 2\n",
        "elif condition3:\n",
        "    # Code block 3\n",
        "else:\n",
        "    # Code block 4 (optional)\n",
        "```\n",
        "\n",
        "---\n",
        "\n",
        "### **How It Works**\n",
        "1. The program evaluates the conditions **in order**:\n",
        "   - It starts with the `if` condition.\n",
        "   - If the `if` condition evaluates to `True`, the associated block is executed, and the rest of the `elif` and `else` blocks are skipped.\n",
        "   - If the `if` condition is `False`, it moves to the first `elif` condition, and so on.\n",
        "\n",
        "2. **First True Condition Wins**:\n",
        "   - Only the block corresponding to the **first condition that evaluates to `True`** is executed.\n",
        "   - After executing that block, the program exits the entire `if-elif-else` structure.\n",
        "\n",
        "3. **`else` Block (Optional)**:\n",
        "   - If none of the `if` or `elif` conditions evaluate to `True`, the `else` block (if present) is executed as a fallback.\n",
        "\n",
        "---\n",
        "\n",
        "### **Example**\n",
        "```python\n",
        "number = 15\n",
        "\n",
        "if number < 10:\n",
        "    print(\"Number is less than 10.\")\n",
        "elif number < 20:\n",
        "    print(\"Number is between 10 and 19.\")\n",
        "elif number < 30:\n",
        "    print(\"Number is between 20 and 29.\")\n",
        "else:\n",
        "    print(\"Number is 30 or more.\")\n",
        "```\n",
        "\n",
        "**Output**:\n",
        "```\n",
        "Number is between 10 and 19.\n",
        "```\n",
        "\n",
        "**Explanation**:\n",
        "1. The `if` condition (`number < 10`) is checked first and evaluates to `False`.\n",
        "2. The first `elif` condition (`number < 20`) evaluates to `True`, so the corresponding block is executed.\n",
        "3. The remaining `elif` and `else` blocks are skipped.\n",
        "\n",
        "---\n",
        "\n",
        "### **Key Points**\n",
        "1. **Order Matters**:\n",
        "   - The `if-elif-else` structure is evaluated sequentially, so conditions should be ordered logically.\n",
        "   - Example:\n",
        "     ```python\n",
        "     if x < 20:\n",
        "         print(\"x is less than 20\")\n",
        "     elif x < 10:  # This condition will never be checked if x < 20\n",
        "         print(\"x is less than 10\")\n",
        "     ```\n",
        "\n",
        "2. **One Block Executed**:\n",
        "   - At most, **one block** of code is executed in an `if-elif-else` structure, even if multiple conditions are `True`.\n",
        "\n",
        "3. **`elif` Is Optional**:\n",
        "   - You can use `if` and `else` without any `elif`:\n",
        "     ```python\n",
        "     if condition:\n",
        "         # Code block\n",
        "     else:\n",
        "         # Fallback code\n",
        "     ```\n",
        "\n",
        "4. **No Limit on `elif`**:\n",
        "   - You can use as many `elif` statements as needed.\n",
        "\n",
        "---\n",
        "\n",
        "### When to Use `elif`\n",
        "- When you have multiple **mutually exclusive conditions** to check.\n",
        "- To avoid nested `if` statements, which can make the code harder to read. For example:\n",
        "  ```python\n",
        "  # Nested ifs (harder to read)\n",
        "  if x > 0:\n",
        "      if x < 10:\n",
        "          print(\"x is between 1 and 9\")\n",
        "\n",
        "  # Using elif (better readability)\n",
        "  if x > 0 and x < 10:\n",
        "      print(\"x is between 1 and 9\")\n",
        "\n",
        "**13.0 What is the difference between for and while loops?**\n",
        "\n",
        "  - Both `for` and `while` loops in Python are used for iteration, but they have distinct differences in how they work and when they are best used.\n",
        "\n",
        "---\n",
        "\n",
        "### **1. `for` Loop**\n",
        "- **Purpose**: Used to iterate over a **sequence** (e.g., list, tuple, string, range, dictionary, etc.) or any iterable object.\n",
        "- **Behavior**: The number of iterations is determined by the size of the sequence or range. It's best suited for situations where the number of iterations is known beforehand.\n",
        "- **Syntax**:\n",
        "  ```python\n",
        "  for element in iterable:\n",
        "      # Code block to execute\n",
        "  ```\n",
        "\n",
        "- **Example**:\n",
        "  ```python\n",
        "  for i in range(5):\n",
        "      print(i)\n",
        "  ```\n",
        "  **Output**:\n",
        "  ```\n",
        "  0\n",
        "  1\n",
        "  2\n",
        "  3\n",
        "  4\n",
        "  ```\n",
        "\n",
        "- **Use Case**:\n",
        "  - Iterating over elements of a list, string, or range.\n",
        "  - When you know in advance how many times you want the loop to run.\n",
        "\n",
        "---\n",
        "\n",
        "### **2. `while` Loop**\n",
        "- **Purpose**: Used to execute a block of code **as long as a condition is true**. The number of iterations is not predetermined; it depends on when the condition becomes false.\n",
        "- **Behavior**: The condition is checked before each iteration. It's best suited for situations where the number of iterations depends on a condition rather than being fixed.\n",
        "- **Syntax**:\n",
        "  ```python\n",
        "  while condition:\n",
        "      # Code block to execute\n",
        "  ```\n",
        "\n",
        "- **Example**:\n",
        "  ```python\n",
        "  count = 0\n",
        "  while count < 5:\n",
        "      print(count)\n",
        "      count += 1\n",
        "  ```\n",
        "  **Output**:\n",
        "  ```\n",
        "  0\n",
        "  1\n",
        "  2\n",
        "  3\n",
        "  4\n",
        "  ```\n",
        "\n",
        "- **Use Case**:\n",
        "  - When the number of iterations depends on a condition (e.g., user input or dynamic changes in variables).\n",
        "  - Useful for creating infinite loops (e.g., servers or event listeners) that terminate based on external triggers.\n",
        "\n",
        "### **Key Differences**\n",
        "\n",
        "| Aspect                | `for` Loop                              | `while` Loop                           |\n",
        "|-----------------------|-----------------------------------------|----------------------------------------|\n",
        "| **Iteration Type**     | Iterates over a sequence or iterable    | Iterates based on a condition          |\n",
        "| **Iterations Known?**  | Yes, usually known in advance           | No, determined by the condition        |\n",
        "| **Condition**          | No explicit condition, based on the iterable | Requires an explicit condition         |\n",
        "| **Suitability**        | Best for fixed number of iterations     | Best for indeterminate iterations       |\n",
        "| **Risk of Infinite Loop** | Rare (iterable exhausts naturally)    | Higher risk if the condition never changes |\n",
        "\n",
        "\n",
        "### **Choosing Between `for` and `while`**\n",
        "1. **Use `for` when**:\n",
        "   - You need to iterate over a sequence or a range of numbers.\n",
        "   - The number of iterations is fixed or depends on the length of an iterable.\n",
        "\n",
        "2. **Use `while` when**:\n",
        "   - You need to keep looping until a specific condition is met.\n",
        "   - The number of iterations cannot be determined in advance.\n",
        "\n",
        "### **Example Comparison**\n",
        "- **Using `for`**:\n",
        "  ```python\n",
        "  for i in range(3):\n",
        "      print(\"Iteration:\", i)\n",
        "  ```\n",
        "\n",
        "- **Using `while`**:\n",
        "  ```python\n",
        "  i = 0\n",
        "  while i < 3:\n",
        "      print(\"Iteration:\", i)\n",
        "      i += 1\n",
        "\n",
        "Both produce the same output, but the choice depends on the context and the problem you're solving.\n",
        "\n",
        "**14. Describe a scenario where a while loop is more suitable than a for loop.**\n",
        "  - A **`while` loop** is more suitable than a **`for` loop** when the number of iterations is **not known in advance** and depends on a condition being met during runtime. Here’s a practical scenario:\n",
        "\n",
        "---\n",
        "\n",
        "### **Scenario: User Authentication System**\n",
        "Imagine you’re creating a system that asks a user to enter a password to log in. The program should keep prompting the user until they provide the correct password or exhaust a limited number of attempts.\n",
        "\n",
        "In this case:\n",
        "- You don’t know how many attempts the user will take to enter the correct password.\n",
        "- A `while` loop is ideal because it allows repeated execution until the correct password is entered or the maximum attempts are reached.\n",
        "\n",
        "---\n",
        "\n",
        "### **Example Implementation**\n",
        "```python\n",
        "correct_password = \"secure123\"\n",
        "attempts = 0\n",
        "max_attempts = 3\n",
        "\n",
        "while attempts < max_attempts:\n",
        "    user_input = input(\"Enter your password: \")\n",
        "    if user_input == correct_password:\n",
        "        print(\"Access granted!\")\n",
        "        break  # Exit the loop when the condition is met\n",
        "    else:\n",
        "        attempts += 1\n",
        "        print(f\"Incorrect password. You have {max_attempts - attempts} attempts left.\")\n",
        "\n",
        "if attempts == max_attempts:\n",
        "    print(\"Too many incorrect attempts. Access denied.\")\n",
        "```\n",
        "\n",
        "---\n",
        "\n",
        "### **Why a `while` Loop is More Suitable Here**\n",
        "1. **Condition-Based Iteration**:\n",
        "   - The loop runs as long as the user hasn’t entered the correct password and the number of attempts is less than the maximum allowed.\n",
        "   - The number of iterations is not fixed and depends on user input.\n",
        "\n",
        "2. **Dynamic Exit**:\n",
        "   - The loop can exit early when the correct password is entered (`break` statement).\n",
        "\n",
        "3. **Event-Driven Logic**:\n",
        "   - The flow of the program depends on an event (correct input), which makes `while` loops a natural choice.\n",
        "\n",
        "---\n",
        "\n",
        "### **Why a `for` Loop is Less Suitable**\n",
        "A `for` loop would iterate a fixed number of times (e.g., `for _ in range(max_attempts)`), but it wouldn’t dynamically exit based on the condition unless you add extra complexity with `break` statements. This makes the logic less intuitive compared to using a `while` loop.\n",
        "\n",
        "  ```    \n",
        "\n"
      ],
      "metadata": {
        "id": "wqAPogWLi2lB"
      }
    },
    {
      "cell_type": "code",
      "source": [],
      "metadata": {
        "id": "Rdgc5M-Kie-L"
      },
      "execution_count": null,
      "outputs": []
    },
    {
      "cell_type": "markdown",
      "source": [
        "#**PYTHON Practical Questions**\n",
        "  -  "
      ],
      "metadata": {
        "id": "bmm1IEafylbp"
      }
    },
    {
      "cell_type": "code",
      "source": [
        "#Write a Python program to print \"Hello, World!\n",
        "print(\"Hello,world\")\n"
      ],
      "metadata": {
        "id": "qISf7z1Hy050",
        "outputId": "10652d1b-c0e7-4106-a322-4df34209d91a",
        "colab": {
          "base_uri": "https://localhost:8080/"
        }
      },
      "execution_count": 1,
      "outputs": [
        {
          "output_type": "stream",
          "name": "stdout",
          "text": [
            "Hello,world\n"
          ]
        }
      ]
    },
    {
      "cell_type": "code",
      "source": [
        "# Write a Python program that displays your name and age.\n",
        "name = \"suhail khan\"\n",
        "age = 23\n",
        "print(name,age)\n"
      ],
      "metadata": {
        "id": "wCUN-gud6S-G",
        "outputId": "5dd755de-9268-4f93-f9ca-baff81280a69",
        "colab": {
          "base_uri": "https://localhost:8080/"
        }
      },
      "execution_count": 9,
      "outputs": [
        {
          "output_type": "stream",
          "name": "stdout",
          "text": [
            "suhail khan 23\n"
          ]
        }
      ]
    },
    {
      "cell_type": "code",
      "source": [
        "# Write code to print all the pre-defined keywords in Python using the keyword librar.\n",
        "\n",
        "# Get the list of all Python keywords\n",
        "keywords = keyword.kwlist\n",
        "\n",
        "# Print each keyword\n",
        "print(\"Python Keywords:\")\n",
        "for kw in keywords:\n",
        "    print(kw)\n"
      ],
      "metadata": {
        "id": "BoCuAYVo8gs5",
        "outputId": "2e6ad0ba-1bc5-44f8-9406-e6d268390c36",
        "colab": {
          "base_uri": "https://localhost:8080/"
        }
      },
      "execution_count": 12,
      "outputs": [
        {
          "output_type": "stream",
          "name": "stdout",
          "text": [
            "Python Keywords:\n",
            "False\n",
            "None\n",
            "True\n",
            "and\n",
            "as\n",
            "assert\n",
            "async\n",
            "await\n",
            "break\n",
            "class\n",
            "continue\n",
            "def\n",
            "del\n",
            "elif\n",
            "else\n",
            "except\n",
            "finally\n",
            "for\n",
            "from\n",
            "global\n",
            "if\n",
            "import\n",
            "in\n",
            "is\n",
            "lambda\n",
            "nonlocal\n",
            "not\n",
            "or\n",
            "pass\n",
            "raise\n",
            "return\n",
            "try\n",
            "while\n",
            "with\n",
            "yield\n"
          ]
        }
      ]
    },
    {
      "cell_type": "code",
      "source": [
        "#Write a program that checks if a given word is a Python keyword.\n",
        "import keyword\n",
        "\n",
        "# Prompt the user for input\n",
        "word = input(\"Enter a word to check if it's a Python keyword: \")\n",
        "\n",
        "# Check if the word is a keyword\n",
        "if keyword.iskeyword(word):\n",
        "    print(f\"'{word}' is a Python keyword.\")\n",
        "else:\n",
        "    print(f\"'{word}' is not a Python keyword.\")\n",
        "\n"
      ],
      "metadata": {
        "id": "TvtC35SK9xAF",
        "outputId": "8ec1998d-abe5-4c0f-f6cd-1ab4dd632c2e",
        "colab": {
          "base_uri": "https://localhost:8080/"
        }
      },
      "execution_count": 13,
      "outputs": [
        {
          "output_type": "stream",
          "name": "stdout",
          "text": [
            "Enter a word to check if it's a Python keyword: for\n",
            "'for' is a Python keyword.\n"
          ]
        }
      ]
    },
    {
      "cell_type": "code",
      "source": [
        "#Create a list and tuple in Python, and demonstrate how attempting to change an element works differently for each.\n",
        "# Create a list and a tuple\n",
        "my_list = [10, 20, 30]\n",
        "my_tuple = (10, 20, 30)\n",
        "\n",
        "# Attempt to modify an element in the list\n",
        "print(\"Original list:\", my_list)\n",
        "my_list[1] = 99  # Lists are mutable, so this works\n",
        "print(\"Modified list:\", my_list)\n",
        "\n",
        "# Attempt to modify an element in the tuple\n",
        "print(\"\\nOriginal tuple:\", my_tuple)\n",
        "try:\n",
        "    my_tuple[1] = 99  # Tuples are immutable, so this raises an error\n",
        "except TypeError as e:\n",
        "    print(\"Error:\", e)\n"
      ],
      "metadata": {
        "id": "1bSLfnkU_IBy",
        "outputId": "e23f92a4-3604-47f7-f1e6-7359e0e0f0ad",
        "colab": {
          "base_uri": "https://localhost:8080/"
        }
      },
      "execution_count": 14,
      "outputs": [
        {
          "output_type": "stream",
          "name": "stdout",
          "text": [
            "Original list: [10, 20, 30]\n",
            "Modified list: [10, 99, 30]\n",
            "\n",
            "Original tuple: (10, 20, 30)\n",
            "Error: 'tuple' object does not support item assignment\n"
          ]
        }
      ]
    },
    {
      "cell_type": "code",
      "source": [
        "# Write a function to demonstrate the behavior of mutable and immutable arguments.\n",
        "def demonstrate_mutable_and_immutable(arg1, arg2):\n",
        "    # Modify the immutable argument (integer)\n",
        "    print(f\"Immutable (before): {arg1}\")\n",
        "    arg1 += 10\n",
        "    print(f\"Immutable (after): {arg1}\")\n",
        "\n",
        "    # Modify the mutable argument (list)\n",
        "    print(f\"\\nMutable (before): {arg2}\")\n",
        "    arg2.append(99)\n",
        "    print(f\"Mutable (after): {arg2}\")\n",
        "\n",
        "# Test the function\n",
        "immutable_arg = 5  # Integer (immutable)\n",
        "mutable_arg = [1, 2, 3]  # List (mutable)\n",
        "\n",
        "print(\"Before function call:\")\n",
        "print(\"Immutable argument:\", immutable_arg)\n",
        "print(\"Mutable argument:\", mutable_arg)\n",
        "\n",
        "# Call the function\n",
        "demonstrate_mutable_and_immutable(immutable_arg, mutable_arg)\n",
        "\n",
        "print(\"\\nAfter function call:\")\n",
        "print(\"Immutable argument:\", immutable_arg)\n",
        "print(\"Mutable argument:\", mutable_arg)\n"
      ],
      "metadata": {
        "id": "K7G2JrDh_2WP",
        "outputId": "4f00be3f-848e-4bbe-90db-6113e2f07b5a",
        "colab": {
          "base_uri": "https://localhost:8080/"
        }
      },
      "execution_count": 15,
      "outputs": [
        {
          "output_type": "stream",
          "name": "stdout",
          "text": [
            "Before function call:\n",
            "Immutable argument: 5\n",
            "Mutable argument: [1, 2, 3]\n",
            "Immutable (before): 5\n",
            "Immutable (after): 15\n",
            "\n",
            "Mutable (before): [1, 2, 3]\n",
            "Mutable (after): [1, 2, 3, 99]\n",
            "\n",
            "After function call:\n",
            "Immutable argument: 5\n",
            "Mutable argument: [1, 2, 3, 99]\n"
          ]
        }
      ]
    },
    {
      "cell_type": "code",
      "source": [
        "#Write a program to demonstrate the use of logical operators.\n",
        "# Function to demonstrate logical operators\n",
        "def logical_operators_demo(a, b):\n",
        "    print(f\"a = {a}, b = {b}\\n\")\n",
        "\n",
        "    # Using 'and' operator\n",
        "    print(\"Logical AND:\")\n",
        "    print(f\"a > 0 and b > 0: {a > 0 and b > 0}\")\n",
        "    print(f\"a > 0 and b < 0: {a > 0 and b < 0}\\n\")\n",
        "\n",
        "    # Using 'or' operator\n",
        "    print(\"Logical OR:\")\n",
        "    print(f\"a > 0 or b > 0: {a > 0 or b > 0}\")\n",
        "    print(f\"a < 0 or b < 0: {a < 0 or b < 0}\\n\")\n",
        "\n",
        "    # Using 'not' operator\n",
        "    print(\"Logical NOT:\")\n",
        "    print(f\"not(a > 0): {not(a > 0)}\")\n",
        "    print(f\"not(b < 0): {not(b < 0)}\")\n",
        "\n",
        "\n",
        "# Test the function\n",
        "a = 10\n",
        "b = -5\n",
        "logical_operators_demo(a, b)\n"
      ],
      "metadata": {
        "id": "b2eaGUu0AM-f",
        "outputId": "e3c81348-cac5-48d6-8365-d60a75716d49",
        "colab": {
          "base_uri": "https://localhost:8080/"
        }
      },
      "execution_count": 16,
      "outputs": [
        {
          "output_type": "stream",
          "name": "stdout",
          "text": [
            "a = 10, b = -5\n",
            "\n",
            "Logical AND:\n",
            "a > 0 and b > 0: False\n",
            "a > 0 and b < 0: True\n",
            "\n",
            "Logical OR:\n",
            "a > 0 or b > 0: True\n",
            "a < 0 or b < 0: True\n",
            "\n",
            "Logical NOT:\n",
            "not(a > 0): False\n",
            "not(b < 0): False\n"
          ]
        }
      ]
    },
    {
      "cell_type": "code",
      "source": [
        "#Write a Python program to convert user input from string to integer, float, and boolean types.\n",
        "# Prompt the user for input\n",
        "user_input = input(\"Enter a value: \")\n",
        "\n",
        "# Convert to integer\n",
        "try:\n",
        "    int_value = int(user_input)\n",
        "    print(f\"Integer conversion: {int_value}\")\n",
        "except ValueError:\n",
        "    print(\"Integer conversion: Invalid (not a valid integer)\")\n",
        "\n",
        "# Convert to float\n",
        "try:\n",
        "    float_value = float(user_input)\n",
        "    print(f\"Float conversion: {float_value}\")\n",
        "except ValueError:\n",
        "    print(\"Float conversion: Invalid (not a valid float)\")\n",
        "\n",
        "# Convert to boolean\n",
        "# Any non-empty string is True, except for \"0\" or case-insensitive \"false\"\n",
        "bool_value = bool(user_input) and user_input.lower() not in [\"0\", \"false\"]\n",
        "print(f\"Boolean conversion: {bool_value}\")\n",
        "\n"
      ],
      "metadata": {
        "id": "wmXdrtMJAoSg",
        "outputId": "80cfacbc-e68e-44cd-cfdc-3191ebe02686",
        "colab": {
          "base_uri": "https://localhost:8080/"
        }
      },
      "execution_count": 19,
      "outputs": [
        {
          "output_type": "stream",
          "name": "stdout",
          "text": [
            "Enter a value: 25\n",
            "Integer conversion: 25\n",
            "Float conversion: 25.0\n",
            "Boolean conversion: True\n"
          ]
        }
      ]
    },
    {
      "cell_type": "code",
      "source": [
        "#Write code to demonstrate type casting with list elements.\n",
        "# Initial list with mixed data types (strings, integers, floats)\n",
        "mixed_list = [\"10\", \"20.5\", \"30\", \"hello\", 40]\n",
        "\n",
        "# Lists to store type-casted values\n",
        "int_list = []\n",
        "float_list = []\n",
        "bool_list = []\n",
        "\n",
        "# Iterate over the mixed_list and attempt type casting\n",
        "for element in mixed_list:\n",
        "    # Convert to integer if possible\n",
        "    try:\n",
        "        int_value = int(float(element))  # Handles both strings and floats\n",
        "        int_list.append(int_value)\n",
        "    except (ValueError, TypeError):\n",
        "        pass  # Skip invalid conversions\n",
        "\n",
        "    # Convert to float if possible\n",
        "    try:\n",
        "        float_value = float(element)\n",
        "        float_list.append(float_value)\n",
        "    except (ValueError, TypeError):\n",
        "        pass  # Skip invalid conversions\n",
        "\n",
        "    # Convert to boolean\n",
        "    bool_value = bool(element)  # Non-empty strings and non-zero numbers are True\n",
        "    bool_list.append(bool_value)\n",
        "\n",
        "# Display the results\n",
        "print(\"Original list:\", mixed_list)\n",
        "print(\"List with integer values:\", int_list)\n",
        "print(\"List with float values:\", float_list)\n",
        "print(\"List with boolean values:\", bool_list)\n"
      ],
      "metadata": {
        "id": "N46ifmRBA6EM",
        "outputId": "3d5a529d-6c26-4fd6-d7ba-19b0fc9760cc",
        "colab": {
          "base_uri": "https://localhost:8080/"
        }
      },
      "execution_count": 20,
      "outputs": [
        {
          "output_type": "stream",
          "name": "stdout",
          "text": [
            "Original list: ['10', '20.5', '30', 'hello', 40]\n",
            "List with integer values: [10, 20, 30, 40]\n",
            "List with float values: [10.0, 20.5, 30.0, 40.0]\n",
            "List with boolean values: [True, True, True, True, True]\n"
          ]
        }
      ]
    },
    {
      "cell_type": "code",
      "source": [
        "#Write a program that checks if a number is positive, negative, or zero.\n",
        "# Prompt the user for input\n",
        "number = float(input(\"Enter a number: \"))\n",
        "\n",
        "# Check if the number is positive, negative, or zero\n",
        "if number > 0:\n",
        "    print(\"The number is positive.\")\n",
        "elif number < 0:\n",
        "    print(\"The number is negative.\")\n",
        "else:\n",
        "    print(\"The number is zero.\")\n"
      ],
      "metadata": {
        "id": "LaAVA8rlB2kg",
        "outputId": "ff13c69e-b201-4133-ec78-35d2f91526d9",
        "colab": {
          "base_uri": "https://localhost:8080/"
        }
      },
      "execution_count": 22,
      "outputs": [
        {
          "output_type": "stream",
          "name": "stdout",
          "text": [
            "Enter a number: 5\n",
            "The number is positive.\n"
          ]
        }
      ]
    },
    {
      "cell_type": "code",
      "source": [
        "#Write a for loop to print numbers from 1 to 10.\n",
        "# Print numbers from 1 to 10\n",
        "for number in range(1, 11):\n",
        "    print(number)\n"
      ],
      "metadata": {
        "id": "tDytZiWTCG0W",
        "outputId": "0a9ac170-45e1-4397-eb2a-511f01edd2f4",
        "colab": {
          "base_uri": "https://localhost:8080/"
        }
      },
      "execution_count": 25,
      "outputs": [
        {
          "output_type": "stream",
          "name": "stdout",
          "text": [
            "1\n",
            "2\n",
            "3\n",
            "4\n",
            "5\n",
            "6\n",
            "7\n",
            "8\n",
            "9\n",
            "10\n"
          ]
        }
      ]
    },
    {
      "cell_type": "code",
      "source": [
        "#Write a Python program to find the sum of all even numbers between 1 and 50.\n",
        "# Initialize a variable to store the sum\n",
        "sum_of_evens = 0\n",
        "\n",
        "# Loop through numbers from 1 to 50\n",
        "for number in range(1, 51):\n",
        "    if number % 2 == 0:  # Check if the number is even\n",
        "        sum_of_evens += number  # Add the even number to the sum\n",
        "\n",
        "# Print the result\n",
        "print(\"The sum of all even numbers between 1 and 50 is:\", sum_of_evens)\n"
      ],
      "metadata": {
        "id": "DOTIe7NbDCGm",
        "outputId": "caea8815-4bd5-43d6-c68d-3755121a6c75",
        "colab": {
          "base_uri": "https://localhost:8080/"
        }
      },
      "execution_count": 26,
      "outputs": [
        {
          "output_type": "stream",
          "name": "stdout",
          "text": [
            "The sum of all even numbers between 1 and 50 is: 650\n"
          ]
        }
      ]
    },
    {
      "cell_type": "code",
      "source": [
        "#Write a program to reverse a string using a while loop.\n",
        "# Get input from the user\n",
        "original_string = input(\"Enter a string: \")\n",
        "\n",
        "# Initialize variables\n",
        "reversed_string = \"\"\n",
        "index = len(original_string) - 1  # Start from the last character\n",
        "\n",
        "# Use a while loop to reverse the string\n",
        "while index >= 0:\n",
        "    reversed_string += original_string[index]  # Add the character to the reversed string\n",
        "    index -= 1  # Move to the previous character\n",
        "\n",
        "# Print the reversed string\n",
        "print(\"Reversed string:\", reversed_string)\n"
      ],
      "metadata": {
        "id": "ZsKjTYOmDLeG",
        "outputId": "ffbe670e-3d41-45be-aa27-db55b906569d",
        "colab": {
          "base_uri": "https://localhost:8080/"
        }
      },
      "execution_count": 27,
      "outputs": [
        {
          "output_type": "stream",
          "name": "stdout",
          "text": [
            "Enter a string: hello\n",
            "Reversed string: olleh\n"
          ]
        }
      ]
    },
    {
      "cell_type": "code",
      "source": [
        "#Write a Python program to calculate the factorial of a number provided by the user using a while loop.\n",
        "# Get input from the user\n",
        "number = int(input(\"Enter a non-negative integer: \"))\n",
        "\n",
        "# Ensure the input is valid\n",
        "if number < 0:\n",
        "    print(\"Factorial is not defined for negative numbers.\")\n",
        "else:\n",
        "    # Initialize factorial result and counter\n",
        "    factorial = 1\n",
        "    counter = number\n",
        "\n",
        "    # Calculate factorial using a while loop\n",
        "    while counter > 0:\n",
        "        factorial *= counter  # Multiply the current value of factorial by the counter\n",
        "        counter -= 1  # Decrement the counter\n",
        "\n",
        "    # Print the result\n",
        "    print(f\"The factorial of {number} is: {factorial}\")\n"
      ],
      "metadata": {
        "id": "YxhRypkkDZnH",
        "outputId": "aa615c85-66e6-4f01-f71c-bc3b4c6a0952",
        "colab": {
          "base_uri": "https://localhost:8080/"
        }
      },
      "execution_count": 28,
      "outputs": [
        {
          "output_type": "stream",
          "name": "stdout",
          "text": [
            "Enter a non-negative integer: 5\n",
            "The factorial of 5 is: 120\n"
          ]
        }
      ]
    },
    {
      "cell_type": "code",
      "source": [],
      "metadata": {
        "id": "MhWfsXyWDvmH"
      },
      "execution_count": null,
      "outputs": []
    }
  ]
}